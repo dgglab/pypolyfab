{
 "cells": [
  {
   "cell_type": "code",
   "execution_count": 1,
   "metadata": {},
   "outputs": [],
   "source": [
    "%%capture\n",
    "\n",
    "import importlib\n",
    "from shapely.geometry import Polygon\n",
    "from shapely.geometry.polygon import orient\n",
    "import numpy as np\n",
    "\n",
    "import matplotlib\n",
    "import matplotlib.pyplot as plt\n",
    "%matplotlib inline\n",
    "\n",
    "import device_geo as geo\n",
    "importlib.reload(geo)"
   ]
  },
  {
   "cell_type": "code",
   "execution_count": 2,
   "metadata": {},
   "outputs": [],
   "source": [
    "bar_points = [(0,0),(1,0),(1,1),(0,1)]\n",
    "feat_1 = geo.Feature(bar_points)\n",
    "\n",
    "feat_2 = geo.Feature(bar_points)\n",
    "feat_2.rotate_and_offset(2, 2, 0)\n",
    "\n",
    "feat_3 = geo.Feature(bar_points)\n",
    "feat_3.rotate_and_offset(2.5, 2.5, 0)"
   ]
  },
  {
   "cell_type": "code",
   "execution_count": 3,
   "metadata": {},
   "outputs": [],
   "source": [
    "dev = geo.Device()\n",
    "for feat in [feat_1, feat_2, feat_3]:\n",
    "    dev.register_feature(feat,0)\n",
    "    \n",
    "dev.heal()"
   ]
  },
  {
   "cell_type": "code",
   "execution_count": 4,
   "metadata": {},
   "outputs": [],
   "source": [
    "dev.scale(0,2,2)"
   ]
  },
  {
   "cell_type": "code",
   "execution_count": 5,
   "metadata": {},
   "outputs": [
    {
     "data": {
      "image/svg+xml": [
       "<svg xmlns=\"http://www.w3.org/2000/svg\" xmlns:xlink=\"http://www.w3.org/1999/xlink\" width=\"100.0\" height=\"100.0\" viewBox=\"-2.0300000000000002 -2.0300000000000002 7.5600000000000005 7.5600000000000005\" preserveAspectRatio=\"xMinYMin meet\"><g transform=\"matrix(1,0,0,-1,0,3.5)\"><g><path fill-rule=\"evenodd\" fill=\"#66cc99\" stroke=\"#555555\" stroke-width=\"0.1512\" opacity=\"0.6\" d=\"M -1.75,-1.75 L -1.75,0.25 L 0.25,0.25 L 0.25,-1.75 L -1.75,-1.75 z\" /><path fill-rule=\"evenodd\" fill=\"#66cc99\" stroke=\"#555555\" stroke-width=\"0.1512\" opacity=\"0.6\" d=\"M 2.25,2.25 L 2.25,4.25 L 3.25,4.25 L 3.25,5.25 L 5.25,5.25 L 5.25,3.25 L 4.25,3.25 L 4.25,2.25 L 2.25,2.25 z\" /></g></g></svg>"
      ],
      "text/plain": [
       "<shapely.geometry.multipolygon.MultiPolygon at 0x272fde386d8>"
      ]
     },
     "execution_count": 5,
     "metadata": {},
     "output_type": "execute_result"
    }
   ],
   "source": [
    "dev.device[0].poly"
   ]
  },
  {
   "cell_type": "code",
   "execution_count": 6,
   "metadata": {},
   "outputs": [
    {
     "data": {
      "image/svg+xml": [
       "<svg xmlns=\"http://www.w3.org/2000/svg\" xmlns:xlink=\"http://www.w3.org/1999/xlink\" width=\"100.0\" height=\"100.0\" viewBox=\"-2.0300000000000002 -2.0300000000000002 7.5600000000000005 7.5600000000000005\" preserveAspectRatio=\"xMinYMin meet\"><g transform=\"matrix(1,0,0,-1,0,3.5)\"><g><path fill-rule=\"evenodd\" fill=\"#66cc99\" stroke=\"#555555\" stroke-width=\"0.1512\" opacity=\"0.6\" d=\"M -1.75,-1.75 L -1.75,0.25 L 0.25,0.25 L 0.25,-1.75 L -1.75,-1.75 z\" /><path fill-rule=\"evenodd\" fill=\"#66cc99\" stroke=\"#555555\" stroke-width=\"0.1512\" opacity=\"0.6\" d=\"M 2.25,2.25 L 2.25,4.25 L 3.25,4.25 L 3.25,5.25 L 5.25,5.25 L 5.25,3.25 L 4.25,3.25 L 4.25,2.25 L 2.25,2.25 z\" /></g></g></svg>"
      ],
      "text/plain": [
       "<shapely.geometry.multipolygon.MultiPolygon at 0x272fde386d8>"
      ]
     },
     "execution_count": 6,
     "metadata": {},
     "output_type": "execute_result"
    }
   ],
   "source": [
    "dev.device[0].poly"
   ]
  },
  {
   "cell_type": "code",
   "execution_count": 7,
   "metadata": {},
   "outputs": [
    {
     "data": {
      "text/plain": [
       "[(-1.75, -1.75), (-1.75, 0.25), (0.25, 0.25), (0.25, -1.75), (-1.75, -1.75)]"
      ]
     },
     "execution_count": 7,
     "metadata": {},
     "output_type": "execute_result"
    }
   ],
   "source": [
    "list(dev.device[0].poly[0].exterior.coords)"
   ]
  }
 ],
 "metadata": {
  "kernelspec": {
   "display_name": "Python 3",
   "language": "python",
   "name": "python3"
  },
  "language_info": {
   "codemirror_mode": {
    "name": "ipython",
    "version": 3
   },
   "file_extension": ".py",
   "mimetype": "text/x-python",
   "name": "python",
   "nbconvert_exporter": "python",
   "pygments_lexer": "ipython3",
   "version": "3.7.3"
  }
 },
 "nbformat": 4,
 "nbformat_minor": 2
}
